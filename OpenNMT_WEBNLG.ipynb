{
  "nbformat": 4,
  "nbformat_minor": 0,
  "metadata": {
    "accelerator": "GPU",
    "colab": {
      "name": "OpenNMT_provaWEBNLG.ipynb",
      "provenance": [],
      "collapsed_sections": []
    },
    "kernelspec": {
      "display_name": "Python 3",
      "name": "python3"
    }
  },
  "cells": [
    {
      "cell_type": "code",
      "metadata": {
        "id": "gogajktPlmrz"
      },
      "source": [
        "!pip install --upgrade pip"
      ],
      "execution_count": null,
      "outputs": []
    },
    {
      "cell_type": "code",
      "metadata": {
        "id": "bmzZft3MmFAS"
      },
      "source": [
        "!pip install OpenNMT-py==2.0.0rc2"
      ],
      "execution_count": null,
      "outputs": []
    },
    {
      "cell_type": "code",
      "metadata": {
        "id": "01DWxtMAmcit"
      },
      "source": [
        "with open(\"model4_1.yaml\", \"w\") as f:\n",
        "  f.write(\"\"\"# model4_1.yaml\n",
        "\n",
        "## Where the samples will be written\n",
        "save_data: dati/run/example\n",
        "## Where the voca/content/WebNLG2017_train_RDF.txtb(s) will be written\n",
        "src_vocab: dati/run/example.vocab.src\n",
        "tgt_vocab: dati/run/example.vocab.tgt\n",
        "# Prevent overwriting existing files in the folder\n",
        "overwrite: False\n",
        "\n",
        "# Corpus opts:\n",
        "data:\n",
        "    corpus_1:\n",
        "        path_src: /content/Train_RDF_all.txt\n",
        "        path_tgt: /content/Train_TEXT_all.txt\n",
        "    valid:\n",
        "        path_src: /content/Dev_RDF_all.txt\n",
        "        path_tgt: /content/Dev_TEXT_all.txt\n",
        "\n",
        "# Vocabulary files that were just created\n",
        "src_vocab: dati/run/example.vocab.src\n",
        "tgt_vocab: dati/run/example.vocab.tgt\n",
        "\n",
        "# Train on a single GPU\n",
        "world_size: 1\n",
        "gpu_ranks: [0]\n",
        "\n",
        "# Where to save the checkpoints\n",
        "save_model: dati/run/model\n",
        "save_checkpoint_steps: 10000\n",
        "valid_steps: 10000\n",
        "train_steps: 100000\n",
        "\n",
        "\n",
        "# Model\n",
        "encoder_type: rnn\n",
        "enc_rnn_size: 512\n",
        "enc_layers: 2\n",
        "decoder_type: rnn\n",
        "dec_rnn_size: 512\n",
        "dec_layers: 2\n",
        "position_encoding: True\n",
        "rnn_type: GRU\n",
        "\n",
        "optim: adam\n",
        "learning_rate: 0.001\n",
        "dropout: 0.7\n",
        "\n",
        "\n",
        "seed: 321\n",
        "\"\"\")"
      ],
      "execution_count": null,
      "outputs": []
    },
    {
      "cell_type": "code",
      "metadata": {
        "id": "WfwJe_y6mohD"
      },
      "source": [
        "%%time\n",
        "!onmt_build_vocab -config model4_1.yaml -n_sample -1"
      ],
      "execution_count": null,
      "outputs": []
    },
    {
      "cell_type": "code",
      "metadata": {
        "id": "VCu-SSKJnPXN"
      },
      "source": [
        "%%time\n",
        "!onmt_train -config model4_1.yaml"
      ],
      "execution_count": null,
      "outputs": []
    },
    {
      "cell_type": "code",
      "metadata": {
        "id": "K6AHtt6FoqMH"
      },
      "source": [
        "%%time\n",
        "!onmt_translate -model /content/dati/run/model_step_100000.pt -src /content/Test_RDF_all.txt -gpu 0 -verbose"
      ],
      "execution_count": null,
      "outputs": []
    }
  ]
}