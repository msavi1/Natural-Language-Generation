{
  "nbformat": 4,
  "nbformat_minor": 0,
  "metadata": {
    "colab": {
      "name": "RDF2TXT_vero.ipynb",
      "provenance": []
    },
    "kernelspec": {
      "name": "python3",
      "display_name": "Python 3"
    }
  },
  "cells": [
    {
      "cell_type": "code",
      "metadata": {
        "id": "MVY-G2OnO8OZ"
      },
      "source": [
        "!unzip /content/webnlg_dataset_aligner-main.zip"
      ],
      "execution_count": null,
      "outputs": []
    },
    {
      "cell_type": "code",
      "metadata": {
        "colab": {
          "base_uri": "https://localhost:8080/"
        },
        "id": "b8GqcPN_PIlQ",
        "outputId": "5a87d3c6-9486-4f51-a295-e5664c26feb2"
      },
      "source": [
        "%cd /content/webnlg_dataset_aligner-main"
      ],
      "execution_count": null,
      "outputs": [
        {
          "output_type": "stream",
          "text": [
            "/content/webnlg_dataset_aligner-main\n"
          ],
          "name": "stdout"
        }
      ]
    },
    {
      "cell_type": "code",
      "metadata": {
        "colab": {
          "base_uri": "https://localhost:8080/"
        },
        "id": "wOAQjs3CPKqs",
        "outputId": "15cbe6aa-1206-49f0-c7c3-df1d2b9c4d89"
      },
      "source": [
        "!python main.py -i 7triples_University_test_release.xml"
      ],
      "execution_count": null,
      "outputs": [
        {
          "output_type": "stream",
          "text": [
            "Successfully created the directory 7triples_University_test_release.xml \n"
          ],
          "name": "stdout"
        }
      ]
    }
  ]
}